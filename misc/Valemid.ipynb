{
 "cells": [
  {
   "cell_type": "markdown",
   "metadata": {},
   "source": [
    "#### Sissejuhatus valemitesse\n",
    "A = inimese vanus || Seda nimetatakse muutujaks ehk seda saab muuta\n",
    "\n",
    "Igal aastal sõidab keskmine inimene 30 korda hobusega || See on parameeter ja seda muuta ei saa"
   ]
  },
  {
   "cell_type": "markdown",
   "metadata": {},
   "source": [
    "Valem, mis näitab, mitu korda on üks keskmine inimene soitnud hobusega: $30*A$"
   ]
  },
  {
   "cell_type": "code",
   "execution_count": 4,
   "metadata": {},
   "outputs": [],
   "source": [
    "paljuOledSoitnudHobusega = lambda x: x * 30"
   ]
  },
  {
   "cell_type": "code",
   "execution_count": 8,
   "metadata": {},
   "outputs": [
    {
     "data": {
      "text/plain": [
       "900"
      ]
     },
     "execution_count": 8,
     "metadata": {},
     "output_type": "execute_result"
    }
   ],
   "source": [
    "sinuVanus = 30\n",
    "paljuOledSoitnudHobusega(sinuVanus) # Sisesta vanus"
   ]
  }
 ],
 "metadata": {
  "kernelspec": {
   "display_name": "Python 3",
   "language": "python",
   "name": "python3"
  },
  "language_info": {
   "codemirror_mode": {
    "name": "ipython",
    "version": 3
   },
   "file_extension": ".py",
   "mimetype": "text/x-python",
   "name": "python",
   "nbconvert_exporter": "python",
   "pygments_lexer": "ipython3",
   "version": "3.6.4"
  }
 },
 "nbformat": 4,
 "nbformat_minor": 2
}
